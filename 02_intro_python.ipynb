{
 "cells": [
  {
   "cell_type": "markdown",
   "id": "e00384d6",
   "metadata": {},
   "source": [
    "1. What are Python’s built-in data types?\n",
    "\n",
    "Ans:  int , float , complex , string , list , tuple , range , set , dictionary , boolean"
   ]
  },
  {
   "cell_type": "markdown",
   "id": "9f6c4dc2",
   "metadata": {},
   "source": [
    "2. Why Python is used extensively in Data Science? \n",
    "\n",
    "\n",
    "Ans:  i->   python is easy to learn and looks like simple english\n",
    "\n",
    "\n",
    "      ii->  it has powerful libraries like numpy , pandas , matplotlib for data work\n",
    "\n",
    "\n",
    "      iii-> it handles big data easily from files , databases or web\n",
    "\n",
    "\n",
    "      iv->   python is flexible - use for ai , ml , and automation too\n",
    "\n",
    "      v->   huge communities support make problem solving easier\n"
   ]
  },
  {
   "cell_type": "markdown",
   "id": "b7f0ac0a",
   "metadata": {},
   "source": []
  },
  {
   "cell_type": "markdown",
   "id": "110cd6fa",
   "metadata": {},
   "source": [
    "3.  Explain the difference between lists and tuples in Python.\n",
    "\n",
    "Ans:\n",
    "\n",
    "i-> list is changeable means you can add , remove or update items\n",
    "\n",
    "\n",
    "ii-> tuple is fixed once created you can't change it\n",
    "\n",
    "iii->   list are square brackets[] and tuples use round () brackets\n",
    "\n",
    "iv->   list are slower because theyy allow change but tuple is faster ;they dont  allow changes\n",
    "\n",
    "v-> Real life: List = shopping list (you keep updating), Tuple = date of birth (cannot change)."
   ]
  },
  {
   "cell_type": "markdown",
   "id": "c7a44ab6",
   "metadata": {},
   "source": [
    "4. What are Python’s predefined keywords and their uses?\n",
    "\n",
    "Ans : \n",
    "\n",
    "- Keywords are special reserved words in Python (like grammar rules).\n",
    "\n",
    "- They have fixed meaning and cannot be used as variable names.\n",
    "\n",
    "- Example: if, else, while, for, class, def, True, False, None.\n",
    "\n",
    "- They control Python’s structure (conditions, loops, functions, etc.).\n",
    "\n",
    "- Real life: Just like in English, words like “is” or “the” have fixed meaning, Python keywords also do."
   ]
  },
  {
   "cell_type": "markdown",
   "id": "eb6fba0d",
   "metadata": {},
   "source": [
    " \n",
    "\n",
    "5. How does Python handle mutability and immutability?\n",
    "\n",
    "Ans:\n",
    "\n",
    "- Mutable objects can be changed after creation (like lists, dicts, sets).\n",
    "\n",
    "- Immutable objects cannot be changed once created (like int, float, str, tuple).\n",
    "\n",
    "- Example: List [1,2,3] → you can add 4, but String \"hello\" → you can’t change \"h\".\n",
    "\n",
    "- Mutability makes objects flexible, but sometimes slower; immutability makes them safe and faster.\n",
    "\n",
    "- Real life: Mutable = whiteboard (erasable), Immutable = stone carving (permanent)\n",
    "\n"
   ]
  },
  {
   "cell_type": "markdown",
   "id": "fc2de6f3",
   "metadata": {},
   "source": [
    "6. What is the significance of mutability in Python data structures?\n",
    "\n",
    "Ans: \n",
    "\n",
    "- Mutability decides whether a data structure can be changed after creation.\n",
    "\n",
    "- Mutable ones (list, dict, set) let us update, add, or remove items.\n",
    "\n",
    "- Immutable ones (tuple, string) keep data fixed and safe from accidental changes.\n",
    "\n",
    "- It affects performance, memory use, and program safety.\n",
    "\n",
    "- Real life: Mutable = notebook (can edit notes), Immutable = printed book (cannot edit).\n",
    "\n",
    "\n",
    "\n"
   ]
  },
  {
   "cell_type": "markdown",
   "id": "de5430ae",
   "metadata": {},
   "source": [
    "7:  Explain different types of operators in Python (Arithmetic, Logical, etc.).\n",
    "\n",
    "Ans ->\n",
    "\n",
    "- Arithmetic operators → do math (+, -, *, /, %, **, //).\n",
    "\n",
    "- Comparison operators → compare values (==, !=, >, <, >=, <=).\n",
    "\n",
    "- Logical operators → combine conditions (and, or, not).\n",
    "\n",
    "- Assignment, Bitwise, Membership, Identity operators → assign values, work with bits, check membership, or compare object identity.\n",
    "\n",
    "- Real life: Arithmetic = calculator, Logical = decision making, Comparison = checking age limits."
   ]
  },
  {
   "cell_type": "markdown",
   "id": "2626b157",
   "metadata": {},
   "source": []
  },
  {
   "cell_type": "markdown",
   "id": "60d8bb98",
   "metadata": {},
   "source": [
    "8. How do you perform type casting in Python? \n",
    "\n",
    "Ans: \n",
    "\n",
    "- Type casting means converting one data type into another.\n",
    "\n",
    "- Python has built-in functions: int(), float(), str(), bool(), etc.\n",
    "\n",
    "- Example: int(\"10\") → converts string \"10\" to number 10.\n",
    "\n",
    "- Useful when data comes in a different type than needed.\n",
    "\n",
    "- Real life: Like changing dollars to rupees → same value, different format.\n",
    "\n"
   ]
  },
  {
   "cell_type": "markdown",
   "id": "2fa8a6f7",
   "metadata": {},
   "source": [
    "\n",
    "9. Explain the difference between implicit and explicit type casting in Python.\n",
    "\n",
    "Ans:\n",
    "\n",
    "- Implicit type casting (type conversion) → Python automatically converts data types.\n",
    "\n",
    "- Explicit type casting → Programmer manually converts data using functions like int(), str().\n",
    "\n",
    "- Example Implicit: 5 + 2.5 → Python converts 5 to 5.0 automatically.\n",
    "\n",
    "- Example Explicit: int(\"10\") → manually converting string \"10\" to number 10.\n",
    "\n",
    "- Real life: Implicit = fridge cooling food automatically, Explicit = you manually chopping vegetables.\n"
   ]
  },
  {
   "cell_type": "markdown",
   "id": "ad6790e9",
   "metadata": {},
   "source": [
    "10. What is the significance of conditionals in Python?\n",
    "\n",
    "Ans:\n",
    "\n",
    "\n",
    "- Conditionals let Python make decisions based on conditions.\n",
    "\n",
    "- They use if, elif, and else statements.\n",
    "\n",
    "- Example: if age >= 18: print(\"Adult\") → checks a condition before acting.\n",
    "\n",
    "- They help control program flow and execute different code for different cases.\n",
    "\n",
    "- Real life: Traffic signal → Green = go, Red = stop, Yellow = wait.\n"
   ]
  },
  {
   "cell_type": "markdown",
   "id": "c9e52223",
   "metadata": {},
   "source": [
    "11. How would you implement a switch-case statement in Python?\n",
    "\n",
    "Ans: \n",
    "\n",
    "\n",
    "- Python doesn’t have a built-in switch-case, but we can use if-elif-else or dict mapping.\n",
    "\n",
    "- Using if-elif-else: check each condition one by one.\n",
    "\n",
    "- Using dict: map keys to functions or values and call based on input.\n",
    "\n",
    "- Example dict: options = {1: \"One\", 2: \"Two\"}; print(options.get(1)) → prints \"One\".\n",
    "\n",
    "- Real life: Like a vending machine → press button number → get corresponding snack"
   ]
  },
  {
   "cell_type": "markdown",
   "id": "160868bc",
   "metadata": {},
   "source": [
    "\n",
    "12. What are loops in Python? How do you differentiate between for and while loops?\n",
    "\n",
    "\n",
    "Ans:\n",
    "\n",
    "- Loops let Python repeat a block of code multiple times.\n",
    "\n",
    "- For loop → repeats for a fixed number of items (like a list or range).\n",
    "\n",
    "- While loop → repeats as long as a condition is True.\n",
    "\n",
    "- Example: For loop → for i in range(5): print(i); While loop → while x<5: x+=1.\n",
    "\n",
    "- Real life: For loop = checking each item in a shopping list, While loop = waiting until water boils.\n",
    "\n"
   ]
  },
  {
   "cell_type": "markdown",
   "id": "a86a879b",
   "metadata": {},
   "source": [
    "\n",
    "13. How do you use break, continue, and pass in Python loops?\n",
    "\n",
    "Ans->  \n",
    "\n",
    "break → stops the loop completely.\n",
    "\n",
    "continue → skips the current iteration and moves to the next.\n",
    "\n",
    "pass → does nothing; placeholder for future code.\n",
    "\n",
    "Example:\n",
    "\n",
    "break → stop if item found,\n",
    "\n",
    "continue → skip invalid items,\n",
    "\n",
    "pass → leave empty loop temporarily.\n",
    "\n",
    "Real life: Break = stop at red light, Continue = skip broken eggs, Pass = placeholder like “To Do” note.\n",
    "\n"
   ]
  },
  {
   "cell_type": "markdown",
   "id": "d8553127",
   "metadata": {},
   "source": []
  }
 ],
 "metadata": {
  "language_info": {
   "name": "python"
  }
 },
 "nbformat": 4,
 "nbformat_minor": 5
}
